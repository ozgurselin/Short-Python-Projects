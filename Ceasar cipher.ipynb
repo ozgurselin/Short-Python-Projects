{
 "cells": [
  {
   "cell_type": "markdown",
   "id": "1cb9bef4",
   "metadata": {},
   "source": [
    "# Here are some examples of functions that can be used to decipher secret code"
   ]
  },
  {
   "cell_type": "markdown",
   "id": "7a4fa8f4",
   "metadata": {},
   "source": [
    "## Ceasar cipher: shifts all the letters by a certain offset"
   ]
  },
  {
   "cell_type": "code",
   "execution_count": 1,
   "id": "b0367626",
   "metadata": {},
   "outputs": [],
   "source": [
    "message=\"xuo jxuhu! jxyi yi qd unqcfbu ev q squiqh syfxuh. muhu oek qrbu je tusetu yj? y xefu ie! iudt cu q cuiiqwu rqsa myjx jxu iqcu evviuj!\"\n",
    "\n",
    "alphabet='abcdefghijklmnopqrstuvwxyz'"
   ]
  },
  {
   "cell_type": "code",
   "execution_count": 2,
   "id": "7f405d58",
   "metadata": {},
   "outputs": [
    {
     "name": "stdout",
     "output_type": "stream",
     "text": [
      "hey there! this is an example of a caesar cipher. were you able to decode it? i hope so! send me a message back with the same offset!\n",
      "-----------\n"
     ]
    }
   ],
   "source": [
    "##define the function that deciphers the message\n",
    "i=0\n",
    "def cipher(msg, offset):\n",
    "  decoded=[]\n",
    "  for m in msg:\n",
    "    if m in alphabet:\n",
    "      i= alphabet.index(m)\n",
    "      i= (i+offset) % 26\n",
    "      decoded.append(alphabet[i])\n",
    "    else:\n",
    "      decoded.append(m)\n",
    "  joined_cipher= ('').join(decoded)\n",
    "  print(joined_cipher)\n",
    "\n",
    "cipher(message, 10)\n",
    "\n",
    "print('-----------')"
   ]
  },
  {
   "cell_type": "code",
   "execution_count": 3,
   "id": "edad2f1c",
   "metadata": {},
   "outputs": [
    {
     "name": "stdout",
     "output_type": "stream",
     "text": [
      "Hem oek teyd?\n",
      "How you doin?\n"
     ]
    }
   ],
   "source": [
    "# here is a function for encoding a message using an offset value \n",
    "my_msg='How you doin?'\n",
    "\n",
    "a=0\n",
    "def encode(msg, offset):\n",
    "  encoded=[]\n",
    "  for m in msg:\n",
    "    if m in alphabet:\n",
    "      a= alphabet.index(m)\n",
    "      a= (a-offset) % 26\n",
    "      encoded.append(alphabet[a])\n",
    "    else:\n",
    "      encoded.append(m)\n",
    "  joined_encoded= ''.join(encoded)\n",
    "  print(joined_encoded)\n",
    "  \n",
    "\n",
    "encode(my_msg,10)\n",
    "test_me='Hem oek teyd?'\n",
    "cipher(test_me, 10)"
   ]
  },
  {
   "cell_type": "code",
   "execution_count": 4,
   "id": "b01239c4",
   "metadata": {},
   "outputs": [
    {
     "name": "stdout",
     "output_type": "stream",
     "text": [
      "the offset for the second message is fourteen\n",
      "performing multiple caesar ciphers to code your messagei is even more secure\n"
     ]
    }
   ],
   "source": [
    "## here are some test cases to make sure that the ceasar cipher is working\n",
    "msg_1='jxu evviuj veh jxu iusedt cuiiqwu yi vekhjuud'\n",
    "msg_2='bqdradyuzs ygxfubxq omqemd oubtqde fa oapq kagd yqeemsqu ue qhqz yadq eqogdq'\n",
    "cipher(msg_1,10)\n",
    "cipher(msg_2,14)"
   ]
  },
  {
   "cell_type": "code",
   "execution_count": 6,
   "id": "ec235379",
   "metadata": {},
   "outputs": [
    {
     "name": "stdout",
     "output_type": "stream",
     "text": [
      "vhfinmxkl atox kxgwxkxw tee hy maxlx hew vbiaxkl hulhexmx. px'ee atox mh kxteer lmxi ni hnk ztfx by px ptgm mh dxxi hnk fxlltzxl ltyx.\n",
      "cipher offset is 0\n",
      "---------------\n",
      "wigjonylm bupy lyhxylyx uff iz nbymy ifx wcjbylm ivmifyny. qy'ff bupy ni lyuffs mnyj oj iol augy cz qy quhn ni eyyj iol gymmuaym muzy.\n",
      "cipher offset is 1\n",
      "---------------\n",
      "xjhkpozmn cvqz mziyzmzy vgg ja ocznz jgy xdkczmn jwnjgzoz. rz'gg cvqz oj mzvggt nozk pk jpm bvhz da rz rvio oj fzzk jpm hznnvbzn nvaz.\n",
      "cipher offset is 2\n",
      "---------------\n",
      "ykilqpano dwra najzanaz whh kb pdaoa khz yeldano kxokhapa. sa'hh dwra pk nawhhu opal ql kqn cwia eb sa swjp pk gaal kqn iaoowcao owba.\n",
      "cipher offset is 3\n",
      "---------------\n",
      "zljmrqbop exsb obkaboba xii lc qebpb lia zfmebop lyplibqb. tb'ii exsb ql obxiiv pqbm rm lro dxjb fc tb txkq ql hbbm lro jbppxdbp pxcb.\n",
      "cipher offset is 4\n",
      "---------------\n",
      "amknsrcpq fytc pclbcpcb yjj md rfcqc mjb agnfcpq mzqmjcrc. uc'jj fytc rm pcyjjw qrcn sn msp eykc gd uc uylr rm iccn msp kcqqyecq qydc.\n",
      "cipher offset is 5\n",
      "---------------\n",
      "bnlotsdqr gzud qdmcdqdc zkk ne sgdrd nkc bhogdqr narnkdsd. vd'kk gzud sn qdzkkx rsdo to ntq fzld he vd vzms sn jddo ntq ldrrzfdr rzed.\n",
      "cipher offset is 6\n",
      "---------------\n",
      "computers have rendered all of these old ciphers obsolete. we'll have to really step up our game if we want to keep our messages safe.\n",
      "cipher offset is 7\n",
      "---------------\n",
      "dpnqvufst ibwf sfoefsfe bmm pg uiftf pme djqifst pctpmfuf. xf'mm ibwf up sfbmmz tufq vq pvs hbnf jg xf xbou up lffq pvs nfttbhft tbgf.\n",
      "cipher offset is 8\n",
      "---------------\n",
      "eqorwvgtu jcxg tgpfgtgf cnn qh vjgug qnf ekrjgtu qduqngvg. yg'nn jcxg vq tgcnna uvgr wr qwt icog kh yg ycpv vq mggr qwt oguucigu uchg.\n",
      "cipher offset is 9\n",
      "---------------\n",
      "frpsxwhuv kdyh uhqghuhg doo ri wkhvh rog flskhuv revrohwh. zh'oo kdyh wr uhdoob vwhs xs rxu jdph li zh zdqw wr nhhs rxu phvvdjhv vdih.\n",
      "cipher offset is 10\n",
      "---------------\n",
      "gsqtyxivw lezi virhivih epp sj xliwi sph gmtlivw sfwspixi. ai'pp lezi xs vieppc wxit yt syv keqi mj ai aerx xs oiit syv qiwwekiw weji.\n",
      "cipher offset is 11\n",
      "---------------\n",
      "htruzyjwx mfaj wjsijwji fqq tk ymjxj tqi hnumjwx tgxtqjyj. bj'qq mfaj yt wjfqqd xyju zu tzw lfrj nk bj bfsy yt pjju tzw rjxxfljx xfkj.\n",
      "cipher offset is 12\n",
      "---------------\n",
      "iusvazkxy ngbk xktjkxkj grr ul znkyk urj iovnkxy uhyurkzk. ck'rr ngbk zu xkgrre yzkv av uax mgsk ol ck cgtz zu qkkv uax skyygmky yglk.\n",
      "cipher offset is 13\n",
      "---------------\n",
      "jvtwbalyz ohcl yluklylk hss vm aolzl vsk jpwolyz vizvslal. dl'ss ohcl av ylhssf zalw bw vby nhtl pm dl dhua av rllw vby tlzzhnlz zhml.\n",
      "cipher offset is 14\n",
      "---------------\n",
      "kwuxcbmza pidm zmvlmzml itt wn bpmam wtl kqxpmza wjawtmbm. em'tt pidm bw zmittg abmx cx wcz oium qn em eivb bw smmx wcz umaaioma ainm.\n",
      "cipher offset is 15\n",
      "---------------\n",
      "lxvydcnab qjen anwmnanm juu xo cqnbn xum lryqnab xkbxuncn. fn'uu qjen cx anjuuh bcny dy xda pjvn ro fn fjwc cx tnny xda vnbbjpnb bjon.\n",
      "cipher offset is 16\n",
      "---------------\n",
      "mywzedobc rkfo boxnobon kvv yp droco yvn mszrobc ylcyvodo. go'vv rkfo dy bokvvi cdoz ez yeb qkwo sp go gkxd dy uooz yeb wocckqoc ckpo.\n",
      "cipher offset is 17\n",
      "---------------\n",
      "nzxafepcd slgp cpyopcpo lww zq espdp zwo ntaspcd zmdzwpep. hp'ww slgp ez cplwwj depa fa zfc rlxp tq hp hlye ez vppa zfc xpddlrpd dlqp.\n",
      "cipher offset is 18\n",
      "---------------\n",
      "oaybgfqde tmhq dqzpqdqp mxx ar ftqeq axp oubtqde aneaxqfq. iq'xx tmhq fa dqmxxk efqb gb agd smyq ur iq imzf fa wqqb agd yqeemsqe emrq.\n",
      "cipher offset is 19\n",
      "---------------\n",
      "pbzchgref unir eraqrerq nyy bs gurfr byq pvcuref bofbyrgr. jr'yy unir gb ernyyl fgrc hc bhe tnzr vs jr jnag gb xrrc bhe zrffntrf fnsr.\n",
      "cipher offset is 20\n",
      "---------------\n",
      "qcadihsfg vojs fsbrsfsr ozz ct hvsgs czr qwdvsfg cpgczshs. ks'zz vojs hc fsozzm ghsd id cif uoas wt ks kobh hc yssd cif asggousg gots.\n",
      "cipher offset is 21\n",
      "---------------\n",
      "rdbejitgh wpkt gtcstgts paa du iwtht das rxewtgh dqhdatit. lt'aa wpkt id gtpaan hite je djg vpbt xu lt lpci id ztte djg bthhpvth hput.\n",
      "cipher offset is 22\n",
      "---------------\n",
      "secfkjuhi xqlu hudtuhut qbb ev jxuiu ebt syfxuhi eriebuju. mu'bb xqlu je huqbbo ijuf kf ekh wqcu yv mu mqdj je auuf ekh cuiiqwui iqvu.\n",
      "cipher offset is 23\n",
      "---------------\n",
      "tfdglkvij yrmv iveuvivu rcc fw kyvjv fcu tzgyvij fsjfcvkv. nv'cc yrmv kf ivrccp jkvg lg fli xrdv zw nv nrek kf bvvg fli dvjjrxvj jrwv.\n",
      "cipher offset is 24\n",
      "---------------\n",
      "ugehmlwjk zsnw jwfvwjwv sdd gx lzwkw gdv uahzwjk gtkgdwlw. ow'dd zsnw lg jwsddq klwh mh gmj ysew ax ow osfl lg cwwh gmj ewkksywk ksxw.\n",
      "cipher offset is 25\n",
      "---------------\n"
     ]
    }
   ],
   "source": [
    "#what if you don't know what the offset value is?\n",
    "##here is a way to try all possible offset values automatically\n",
    "msg_3= \"vhfinmxkl atox kxgwxkxw tee hy maxlx hew vbiaxkl hulhexmx. px'ee atox mh kxteer lmxi ni hnk ztfx by px ptgm mh dxxi hnk fxlltzxl ltyx.\"\n",
    "\n",
    "for i in range(26):\n",
    "  cipher(msg_3, i)\n",
    "  print('cipher offset is '+str(i))\n",
    "  print('---------------')\n"
   ]
  },
  {
   "cell_type": "markdown",
   "id": "f07668eb",
   "metadata": {},
   "source": []
  },
  {
   "cell_type": "code",
   "execution_count": null,
   "id": "4181a4d3",
   "metadata": {},
   "outputs": [],
   "source": [
    "\n"
   ]
  }
 ],
 "metadata": {
  "kernelspec": {
   "display_name": "Python 3 (ipykernel)",
   "language": "python",
   "name": "python3"
  },
  "language_info": {
   "codemirror_mode": {
    "name": "ipython",
    "version": 3
   },
   "file_extension": ".py",
   "mimetype": "text/x-python",
   "name": "python",
   "nbconvert_exporter": "python",
   "pygments_lexer": "ipython3",
   "version": "3.9.13"
  }
 },
 "nbformat": 4,
 "nbformat_minor": 5
}
